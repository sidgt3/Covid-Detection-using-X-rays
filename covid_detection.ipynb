{
  "nbformat": 4,
  "nbformat_minor": 0,
  "metadata": {
    "colab": {
      "name": "covid_detection",
      "provenance": [],
      "collapsed_sections": [],
      "toc_visible": true,
      "mount_file_id": "10OLDDvxVzEUA6QyKXU2SRGgnzkZLXf8l",
      "authorship_tag": "ABX9TyMBZZAs/wSsW0IxIEvUJfWX",
      "include_colab_link": true
    },
    "kernelspec": {
      "name": "python3",
      "display_name": "Python 3"
    }
  },
  "cells": [
    {
      "cell_type": "markdown",
      "metadata": {
        "id": "view-in-github",
        "colab_type": "text"
      },
      "source": [
        "<a href=\"https://colab.research.google.com/github/sidgt3/Covid-Detection-using-X-rays/blob/master/covid_detection.ipynb\" target=\"_parent\"><img src=\"https://colab.research.google.com/assets/colab-badge.svg\" alt=\"Open In Colab\"/></a>"
      ]
    },
    {
      "cell_type": "code",
      "metadata": {
        "id": "zMNTqAg6uAQF",
        "colab_type": "code",
        "colab": {}
      },
      "source": [
        "# import the necessary packages\n",
        "import matplotlib.pyplot as plt\n",
        "import numpy as np\n",
        "import cv2\n",
        "import os\n",
        "from tensorflow.keras.preprocessing.image import ImageDataGenerator\n",
        "from tensorflow.keras.applications import VGG16\n",
        "from tensorflow.keras.layers import AveragePooling2D\n",
        "from tensorflow.keras.layers import Dropout\n",
        "from tensorflow.keras.layers import Flatten\n",
        "from tensorflow.keras.layers import Dense\n",
        "from tensorflow.keras.layers import Input\n",
        "from tensorflow.keras.models import Model\n",
        "from tensorflow.keras.optimizers import Adam\n",
        "from tensorflow.keras.utils import to_categorical\n",
        "from sklearn.preprocessing import LabelBinarizer\n",
        "from sklearn.model_selection import train_test_split\n",
        "from sklearn.metrics import classification_report\n",
        "from sklearn.metrics import confusion_matrix\n",
        "from imutils import paths\n"
      ],
      "execution_count": 1,
      "outputs": []
    },
    {
      "cell_type": "code",
      "metadata": {
        "id": "F8N6XcIauI8z",
        "colab_type": "code",
        "colab": {}
      },
      "source": [
        "lr = 1e-3 # initialize the initial learning rate\n",
        "epochs = 25  # initialize the number of epochs to train for\n",
        "batch_size = 8  #Initialize batch size"
      ],
      "execution_count": 2,
      "outputs": []
    },
    {
      "cell_type": "code",
      "metadata": {
        "id": "0QD5xcVyv4Hs",
        "colab_type": "code",
        "colab": {
          "base_uri": "https://localhost:8080/",
          "height": 34
        },
        "outputId": "bf0a64d6-1f23-46cd-ed60-f64f8b466f50"
      },
      "source": [
        "#download the data from given drive link or directly use it \"https://drive.google.com/drive/folders/1YBxBPVClkp-DTzM_Cha3uGoOF2N0QO1D?usp=sharing\" \n",
        "imagePaths = list(paths.list_images(\"/content/drive/My Drive/Python Projects/keras-covid-19/dataset/\"))\n",
        "data = []\n",
        "labels = []\n",
        "# loop over the image paths\n",
        "for imagePath in imagePaths:\n",
        "\t# extract the class label from the filename\n",
        "\tlabel = imagePath.split(os.path.sep)[-2]\n",
        "\t# load the image, swap color channels, and resize it to be a fixed\n",
        "\t# 224x224 pixels while ignoring aspect ratio\n",
        "\timage = cv2.imread(imagePath)\n",
        "\timage = cv2.cvtColor(image, cv2.COLOR_BGR2RGB)\n",
        "\timage = cv2.resize(image, (224, 224))\n",
        "\t# update the data and labels lists, respectively\n",
        "\tdata.append(image)\n",
        "\tlabels.append(label)\n",
        "# convert the data and labels to NumPy arrays while scaling the pixel\n",
        "# intensities to the range [0, 1]\n",
        "data = np.array(data) / 255.0\n",
        "labels = np.array(labels)\n"
      ],
      "execution_count": null,
      "outputs": [
        {
          "output_type": "stream",
          "text": [
            "[INFO] loading images...\n"
          ],
          "name": "stdout"
        }
      ]
    },
    {
      "cell_type": "code",
      "metadata": {
        "id": "7fq4eILP41_E",
        "colab_type": "code",
        "colab": {}
      },
      "source": [
        "# perform one-hot encoding on the labels\n",
        "lb = LabelBinarizer()\n",
        "labels = lb.fit_transform(labels)\n",
        "labels = to_categorical(labels)\n",
        "# partition the data into training and testing splits using 80% of\n",
        "# the data for training and the remaining 20% for testing\n",
        "(trainX, testX, trainY, testY) = train_test_split(data, labels,\n",
        "\ttest_size=0.20, stratify=labels, random_state=42)\n",
        "# initialize the training data augmentation object\n",
        "trainAug = ImageDataGenerator(\n",
        "\trotation_range=15,\n",
        "\tfill_mode=\"nearest\")"
      ],
      "execution_count": null,
      "outputs": []
    },
    {
      "cell_type": "code",
      "metadata": {
        "id": "19LqiNOqRogt",
        "colab_type": "code",
        "colab": {
          "base_uri": "https://localhost:8080/",
          "height": 71
        },
        "outputId": "7ca73e8c-af55-4643-bdcc-3228f460c853"
      },
      "source": [
        "# load the VGG16 network, ensuring the head FC layer sets are left\n",
        "# off\n",
        "baseModel = VGG16(weights=\"imagenet\", include_top=False,\n",
        "\tinput_tensor=Input(shape=(224, 224, 3)))\n",
        "# construct the head of the model that will be placed on top of the\n",
        "# the base model\n",
        "headModel = baseModel.output\n",
        "headModel = AveragePooling2D(pool_size=(4, 4))(headModel)\n",
        "headModel = Flatten(name=\"flatten\")(headModel)\n",
        "headModel = Dense(64, activation=\"relu\")(headModel)\n",
        "headModel = Dropout(0.5)(headModel)\n",
        "headModel = Dense(2, activation=\"softmax\")(headModel)\n",
        "# place the head FC model on top of the base model (this will become\n",
        "# the actual model we will train)\n",
        "model = Model(inputs=baseModel.input, outputs=headModel)\n",
        "# loop over all layers in the base model and freeze them so they will\n",
        "# *not* be updated during the first training process\n",
        "for layer in baseModel.layers:\n",
        "\tlayer.trainable = False"
      ],
      "execution_count": null,
      "outputs": [
        {
          "output_type": "stream",
          "text": [
            "Downloading data from https://storage.googleapis.com/tensorflow/keras-applications/vgg16/vgg16_weights_tf_dim_ordering_tf_kernels_notop.h5\n",
            "58892288/58889256 [==============================] - 1s 0us/step\n"
          ],
          "name": "stdout"
        }
      ]
    },
    {
      "cell_type": "code",
      "metadata": {
        "id": "y92cCd6nRzoU",
        "colab_type": "code",
        "colab": {
          "base_uri": "https://localhost:8080/",
          "height": 972
        },
        "outputId": "9bc345ce-038e-41ed-b672-3f426e96295a"
      },
      "source": [
        "# compile our model\n",
        "print(\"[INFO] compiling model...\")\n",
        "opt = Adam(lr=INIT_LR, decay=INIT_LR / epochs)\n",
        "model.compile(loss=\"binary_crossentropy\", optimizer=opt,\n",
        "\tmetrics=[\"accuracy\"])\n",
        "# train the head of the network\n",
        "print(\"[INFO] training head...\")\n",
        "H = model.fit_generator(\n",
        "\ttrainAug.flow(trainX, trainY, batch_size=batch_size),\n",
        "\tsteps_per_epoch=len(trainX) // batch_size,\n",
        "\tvalidation_data=(testX, testY),\n",
        "\tvalidation_steps=len(testX) // batch_size,\n",
        "\tepochs=\tepochs)"
      ],
      "execution_count": null,
      "outputs": [
        {
          "output_type": "stream",
          "text": [
            "[INFO] compiling model...\n",
            "[INFO] training head...\n",
            "WARNING:tensorflow:From <ipython-input-17-fec722754440>:13: Model.fit_generator (from tensorflow.python.keras.engine.training) is deprecated and will be removed in a future version.\n",
            "Instructions for updating:\n",
            "Please use Model.fit, which supports generators.\n",
            "Epoch 1/25\n",
            "5/5 [==============================] - 21s 4s/step - loss: 0.7303 - accuracy: 0.4500 - val_loss: 0.7155 - val_accuracy: 0.5000\n",
            "Epoch 2/25\n",
            "5/5 [==============================] - 21s 4s/step - loss: 0.6351 - accuracy: 0.6000 - val_loss: 0.7005 - val_accuracy: 0.5000\n",
            "Epoch 3/25\n",
            "5/5 [==============================] - 21s 4s/step - loss: 0.6485 - accuracy: 0.6000 - val_loss: 0.6822 - val_accuracy: 0.6000\n",
            "Epoch 4/25\n",
            "5/5 [==============================] - 21s 4s/step - loss: 0.6950 - accuracy: 0.5500 - val_loss: 0.6682 - val_accuracy: 0.6000\n",
            "Epoch 5/25\n",
            "5/5 [==============================] - 21s 4s/step - loss: 0.6447 - accuracy: 0.6000 - val_loss: 0.6465 - val_accuracy: 0.6000\n",
            "Epoch 6/25\n",
            "5/5 [==============================] - 21s 4s/step - loss: 0.6384 - accuracy: 0.6250 - val_loss: 0.6387 - val_accuracy: 0.6000\n",
            "Epoch 7/25\n",
            "5/5 [==============================] - 21s 4s/step - loss: 0.5256 - accuracy: 0.8250 - val_loss: 0.6251 - val_accuracy: 0.6000\n",
            "Epoch 8/25\n",
            "5/5 [==============================] - 21s 4s/step - loss: 0.6215 - accuracy: 0.6500 - val_loss: 0.6095 - val_accuracy: 0.6000\n",
            "Epoch 9/25\n",
            "5/5 [==============================] - 21s 4s/step - loss: 0.5401 - accuracy: 0.8250 - val_loss: 0.6025 - val_accuracy: 0.6000\n",
            "Epoch 10/25\n",
            "5/5 [==============================] - 21s 4s/step - loss: 0.5020 - accuracy: 0.8750 - val_loss: 0.6021 - val_accuracy: 0.6000\n",
            "Epoch 11/25\n",
            "5/5 [==============================] - 21s 4s/step - loss: 0.5292 - accuracy: 0.7750 - val_loss: 0.5766 - val_accuracy: 0.6000\n",
            "Epoch 12/25\n",
            "5/5 [==============================] - 21s 4s/step - loss: 0.4674 - accuracy: 0.9250 - val_loss: 0.5507 - val_accuracy: 0.7000\n",
            "Epoch 13/25\n",
            "5/5 [==============================] - 21s 4s/step - loss: 0.4559 - accuracy: 0.8500 - val_loss: 0.5244 - val_accuracy: 0.8000\n",
            "Epoch 14/25\n",
            "5/5 [==============================] - 21s 4s/step - loss: 0.4737 - accuracy: 0.8500 - val_loss: 0.5331 - val_accuracy: 0.6000\n",
            "Epoch 15/25\n",
            "5/5 [==============================] - 21s 4s/step - loss: 0.4419 - accuracy: 0.8750 - val_loss: 0.5050 - val_accuracy: 0.6000\n",
            "Epoch 16/25\n",
            "5/5 [==============================] - 21s 4s/step - loss: 0.4130 - accuracy: 0.9250 - val_loss: 0.4950 - val_accuracy: 0.7000\n",
            "Epoch 17/25\n",
            "5/5 [==============================] - 21s 4s/step - loss: 0.4138 - accuracy: 0.8750 - val_loss: 0.4895 - val_accuracy: 0.6000\n",
            "Epoch 18/25\n",
            "5/5 [==============================] - 21s 4s/step - loss: 0.3352 - accuracy: 0.9250 - val_loss: 0.4762 - val_accuracy: 0.6000\n",
            "Epoch 19/25\n",
            "5/5 [==============================] - 21s 4s/step - loss: 0.3779 - accuracy: 0.9000 - val_loss: 0.4634 - val_accuracy: 0.7000\n",
            "Epoch 20/25\n",
            "5/5 [==============================] - 21s 4s/step - loss: 0.3558 - accuracy: 0.9500 - val_loss: 0.4396 - val_accuracy: 0.9000\n",
            "Epoch 21/25\n",
            "5/5 [==============================] - 21s 4s/step - loss: 0.3496 - accuracy: 0.9500 - val_loss: 0.4145 - val_accuracy: 0.9000\n",
            "Epoch 22/25\n",
            "5/5 [==============================] - 21s 4s/step - loss: 0.3543 - accuracy: 0.9000 - val_loss: 0.4137 - val_accuracy: 1.0000\n",
            "Epoch 23/25\n",
            "5/5 [==============================] - 21s 4s/step - loss: 0.2943 - accuracy: 0.9750 - val_loss: 0.4371 - val_accuracy: 0.7000\n",
            "Epoch 24/25\n",
            "5/5 [==============================] - 21s 4s/step - loss: 0.3149 - accuracy: 0.9500 - val_loss: 0.4323 - val_accuracy: 0.7000\n",
            "Epoch 25/25\n",
            "5/5 [==============================] - 21s 4s/step - loss: 0.3066 - accuracy: 0.9750 - val_loss: 0.4190 - val_accuracy: 0.7000\n"
          ],
          "name": "stdout"
        }
      ]
    },
    {
      "cell_type": "code",
      "metadata": {
        "id": "06j4QvhCR9WV",
        "colab_type": "code",
        "colab": {
          "base_uri": "https://localhost:8080/",
          "height": 187
        },
        "outputId": "dd6be48c-09b2-474e-8819-29ddc1e71d3c"
      },
      "source": [
        "# make predictions on the testing set\n",
        "print(\"[INFO] evaluating network...\")\n",
        "predIdxs = model.predict(testX, batch_size=BS)\n",
        "# for each image in the testing set we need to find the index of the\n",
        "# label with corresponding largest predicted probability\n",
        "predIdxs = np.argmax(predIdxs, axis=1)\n",
        "# show a nicely formatted classification report\n",
        "print(classification_report(testY.argmax(axis=1), predIdxs,\n",
        "\ttarget_names=lb.classes_))"
      ],
      "execution_count": null,
      "outputs": [
        {
          "output_type": "stream",
          "text": [
            "[INFO] evaluating network...\n",
            "              precision    recall  f1-score   support\n",
            "\n",
            "       covid       0.62      1.00      0.77         5\n",
            "      normal       1.00      0.40      0.57         5\n",
            "\n",
            "    accuracy                           0.70        10\n",
            "   macro avg       0.81      0.70      0.67        10\n",
            "weighted avg       0.81      0.70      0.67        10\n",
            "\n"
          ],
          "name": "stdout"
        }
      ]
    },
    {
      "cell_type": "code",
      "metadata": {
        "id": "Djf2nesXUYq0",
        "colab_type": "code",
        "colab": {
          "base_uri": "https://localhost:8080/",
          "height": 102
        },
        "outputId": "56b15915-2fe1-4bc3-f3e4-385715fa163f"
      },
      "source": [
        "# compute the confusion matrix and and use it to derive the raw\n",
        "# accuracy, sensitivity, and specificity\n",
        "cm = confusion_matrix(testY.argmax(axis=1), predIdxs)\n",
        "total = sum(sum(cm))\n",
        "acc = (cm[0, 0] + cm[1, 1]) / total\n",
        "sensitivity = cm[0, 0] / (cm[0, 0] + cm[0, 1])\n",
        "specificity = cm[1, 1] / (cm[1, 0] + cm[1, 1])\n",
        "# show the confusion matrix, accuracy, sensitivity, and specificity\n",
        "print(cm)\n",
        "print(\"acc: {:.4f}\".format(acc))\n",
        "print(\"sensitivity: {:.4f}\".format(sensitivity))\n",
        "print(\"specificity: {:.4f}\".format(specificity))"
      ],
      "execution_count": null,
      "outputs": [
        {
          "output_type": "stream",
          "text": [
            "[[5 0]\n",
            " [3 2]]\n",
            "acc: 0.7000\n",
            "sensitivity: 1.0000\n",
            "specificity: 0.4000\n"
          ],
          "name": "stdout"
        }
      ]
    },
    {
      "cell_type": "code",
      "metadata": {
        "id": "KDdvISqNUmY5",
        "colab_type": "code",
        "colab": {
          "base_uri": "https://localhost:8080/",
          "height": 299
        },
        "outputId": "055bb17c-0ed1-4db0-f6b4-b887a88b0c6e"
      },
      "source": [
        "# plot the training loss and accuracy\n",
        "N = epochs\n",
        "plt.style.use(\"ggplot\")\n",
        "plt.figure()\n",
        "plt.plot(np.arange(0, N), H.history[\"loss\"], label=\"train_loss\")\n",
        "plt.plot(np.arange(0, N), H.history[\"val_loss\"], label=\"val_loss\")\n",
        "plt.plot(np.arange(0, N), H.history[\"accuracy\"], label=\"train_acc\")\n",
        "plt.plot(np.arange(0, N), H.history[\"val_accuracy\"], label=\"val_acc\")\n",
        "plt.title(\"Training Loss and Accuracy on COVID-19 Dataset\")\n",
        "plt.xlabel(\"Epoch #\")\n",
        "plt.ylabel(\"Loss/Accuracy\")\n",
        "plt.legend(loc=\"lower left\")\n",
        "plt.savefig(\"plot.png\")"
      ],
      "execution_count": null,
      "outputs": [
        {
          "output_type": "display_data",
          "data": {
            "image/png": "[encoded data removed]",
            "text/plain": [
              "<Figure size 432x288 with 1 Axes>"
            ]
          },
          "metadata": {
            "tags": []
          }
        }
      ]
    },
    {
      "cell_type": "code",
      "metadata": {
        "id": "wFlQC0oMUqpq",
        "colab_type": "code",
        "colab": {
          "base_uri": "https://localhost:8080/",
          "height": 34
        },
        "outputId": "9421ac8d-3c75-4f20-8692-7669a621afd4"
      },
      "source": [
        "# serialize the model to disk\n",
        "print(\"[INFO] saving COVID-19 detector model...\")\n",
        "model.save('model.h5')"
      ],
      "execution_count": null,
      "outputs": [
        {
          "output_type": "stream",
          "text": [
            "[INFO] saving COVID-19 detector model...\n"
          ],
          "name": "stdout"
        }
      ]
    },
    {
      "cell_type": "code",
      "metadata": {
        "id": "dR3p4KobU7lu",
        "colab_type": "code",
        "colab": {}
      },
      "source": [
        ""
      ],
      "execution_count": null,
      "outputs": []
    }
  ]
}